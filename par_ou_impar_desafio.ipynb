{
  "nbformat": 4,
  "nbformat_minor": 0,
  "metadata": {
    "colab": {
      "provenance": [],
      "authorship_tag": "ABX9TyNQMnHcJU1Mld1GERMNaQq6",
      "include_colab_link": true
    },
    "kernelspec": {
      "name": "python3",
      "display_name": "Python 3"
    },
    "language_info": {
      "name": "python"
    }
  },
  "cells": [
    {
      "cell_type": "markdown",
      "metadata": {
        "id": "view-in-github",
        "colab_type": "text"
      },
      "source": [
        "<a href=\"https://colab.research.google.com/github/alexandrecarnaval/pagina-acessivel/blob/main/par_ou_impar_desafio.ipynb\" target=\"_parent\"><img src=\"https://colab.research.google.com/assets/colab-badge.svg\" alt=\"Open In Colab\"/></a>"
      ]
    },
    {
      "cell_type": "code",
      "execution_count": 1,
      "metadata": {
        "colab": {
          "base_uri": "https://localhost:8080/"
        },
        "id": "_t9DtPL49n8R",
        "outputId": "dc22073b-d426-4f53-b2f3-f24c446b34b3"
      },
      "outputs": [
        {
          "output_type": "stream",
          "name": "stdout",
          "text": [
            "🎮 Bem-vindo ao jogo de Par ou Ímpar!\n",
            "Você escolhe Par ou Ímpar? (Digite 'par' ou 'ímpar'): par\n",
            "Digite um número de 0 a 10: 9\n",
            "O computador escolheu: 4\n",
            "A soma dos números é 13, que é ímpar.\n",
            "😢 Você perdeu!\n"
          ]
        }
      ],
      "source": [
        "import random\n",
        "\n",
        "def jogo_par_ou_impar():\n",
        "    print(\"🎮 Bem-vindo ao jogo de Par ou Ímpar!\")\n",
        "\n",
        "    # Escolha do jogador\n",
        "    escolha_usuario = input(\"Você escolhe Par ou Ímpar? (Digite 'par' ou 'ímpar'): \").strip().lower()\n",
        "    while escolha_usuario not in ['par', 'ímpar']:\n",
        "        escolha_usuario = input(\"Escolha inválida. Digite 'par' ou 'ímpar': \").strip().lower()\n",
        "\n",
        "    # Número do jogador\n",
        "    numero_usuario = int(input(\"Digite um número de 0 a 10: \"))\n",
        "    while numero_usuario < 0 or numero_usuario > 10:\n",
        "        numero_usuario = int(input(\"Número inválido. Digite um número entre 0 e 10: \"))\n",
        "\n",
        "    # Número do computador\n",
        "    numero_computador = random.randint(0, 10)\n",
        "    print(f\"O computador escolheu: {numero_computador}\")\n",
        "\n",
        "    # Soma e verificação\n",
        "    soma = numero_usuario + numero_computador\n",
        "    resultado = 'par' if soma % 2 == 0 else 'ímpar'\n",
        "\n",
        "    print(f\"A soma dos números é {soma}, que é {resultado}.\")\n",
        "\n",
        "    # Resultado final\n",
        "    if escolha_usuario == resultado:\n",
        "        print(\"🎉 Você venceu!\")\n",
        "    else:\n",
        "        print(\"😢 Você perdeu!\")\n",
        "\n",
        "# Executar o jogo\n",
        "jogo_par_ou_impar()\n"
      ]
    }
  ]
}