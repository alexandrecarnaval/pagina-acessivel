{
  "nbformat": 4,
  "nbformat_minor": 0,
  "metadata": {
    "colab": {
      "provenance": [],
      "include_colab_link": true
    },
    "kernelspec": {
      "name": "python3",
      "display_name": "Python 3"
    },
    "language_info": {
      "name": "python"
    }
  },
  "cells": [
    {
      "cell_type": "markdown",
      "metadata": {
        "id": "view-in-github",
        "colab_type": "text"
      },
      "source": [
        "<a href=\"https://colab.research.google.com/github/alexandrecarnaval/pagina-acessivel/blob/main/Formata%C3%A7%C3%A3o_das_listas.ipynb\" target=\"_parent\"><img src=\"https://colab.research.google.com/assets/colab-badge.svg\" alt=\"Open In Colab\"/></a>"
      ]
    },
    {
      "cell_type": "code",
      "execution_count": null,
      "metadata": {
        "colab": {
          "base_uri": "https://localhost:8080/"
        },
        "id": "dTOiMcpq37Uq",
        "outputId": "c6780f72-49cc-4834-ac6b-4d812327c11f"
      },
      "outputs": [
        {
          "output_type": "stream",
          "name": "stdout",
          "text": [
            "Digite a nota do aluno 1:10\n",
            "Digite a nota do aluno 2:2\n",
            "Digite a nota do aluno 3:3\n",
            "Digite a nota do aluno 4:4\n",
            "Digite a nota do aluno 5:5\n",
            "Digite a nota do aluno 6:6\n",
            "Digite a nota do aluno 7:7\n",
            "Digite a nota do aluno 8:8\n",
            "Digite a nota do aluno 9:9\n",
            "Digite a nota do aluno 10:10\n",
            "Digite a nota do aluno 11:10\n",
            "Digite a nota do aluno 12:10\n",
            "Digite a nota do aluno 13:9\n",
            "Digite a nota do aluno 14:8\n",
            "Digite a nota do aluno 15:7\n",
            "\n",
            "ALUNOS APROVADOS:\n",
            "- Aluno 1 Nota:10.0\n",
            "- Aluno 7 Nota:7.0\n",
            "- Aluno 8 Nota:8.0\n",
            "- Aluno 9 Nota:9.0\n",
            "- Aluno 10 Nota:10.0\n",
            "- Aluno 11 Nota:10.0\n",
            "- Aluno 12 Nota:10.0\n",
            "- Aluno 13 Nota:9.0\n",
            "- Aluno 14 Nota:8.0\n",
            "- Aluno 15 Nota:7.0\n",
            "\n",
            "ALUNOS EM RECUPERAÇÃO\n",
            "- Aluno 2 Nota:2.0\n",
            "- Aluno 3 Nota:3.0\n",
            "- Aluno 4 Nota:4.0\n",
            "- Aluno 5 Nota:5.0\n",
            "- Aluno 6 Nota:6.0\n"
          ]
        }
      ],
      "source": [
        "#criação das 2 listas\n",
        "aprovados = []\n",
        "recuperacao = []\n",
        "\n",
        "for contador in range(15):\n",
        "  nota = float(input(f\"Digite a nota do aluno {contador+1}:\"))\n",
        "  if (nota>= 7):\n",
        "    aprovados.append(f\"Aluno {contador+1} Nota:{nota}\")\n",
        "\n",
        "  else:\n",
        "    recuperacao.append(f\"Aluno {contador+1} Nota:{nota}\")\n",
        "\n",
        "# Imprime o título para os alunos aprovados\n",
        "print (\"\\nALUNOS APROVADOS:\")\n",
        "# Percorre a lista de alunos aprovados e exibe cada um em uma nova linha com um marcador\n",
        "for aluno in aprovados:\n",
        "  print(f\"- {aluno}\")\n",
        "\n",
        "# Imprime o título para os alunos em recuperação\n",
        "print (\"\\nALUNOS EM RECUPERAÇÃO\")\n",
        "# Percorre a lista de alunos em recuperação e exibe cada um em uma nova linha com um marcador\n",
        "for aluno in recuperacao:\n",
        "  print(f\"- {aluno}\")"
      ]
    }
  ]
}