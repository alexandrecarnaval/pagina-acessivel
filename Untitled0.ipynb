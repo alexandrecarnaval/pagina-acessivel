{
  "nbformat": 4,
  "nbformat_minor": 0,
  "metadata": {
    "colab": {
      "provenance": [],
      "authorship_tag": "ABX9TyOxN3fJvV3gpT4T5QGm/1Rd",
      "include_colab_link": true
    },
    "kernelspec": {
      "name": "python3",
      "display_name": "Python 3"
    },
    "language_info": {
      "name": "python"
    }
  },
  "cells": [
    {
      "cell_type": "markdown",
      "metadata": {
        "id": "view-in-github",
        "colab_type": "text"
      },
      "source": [
        "<a href=\"https://colab.research.google.com/github/alexandrecarnaval/pagina-acessivel/blob/main/Untitled0.ipynb\" target=\"_parent\"><img src=\"https://colab.research.google.com/assets/colab-badge.svg\" alt=\"Open In Colab\"/></a>"
      ]
    },
    {
      "cell_type": "code",
      "execution_count": 1,
      "metadata": {
        "colab": {
          "base_uri": "https://localhost:8080/"
        },
        "id": "fZOpWTjU8A0N",
        "outputId": "ab85829b-8a0f-48c8-fa87-4c645d09c7cd"
      },
      "outputs": [
        {
          "output_type": "stream",
          "name": "stdout",
          "text": [
            "Está chovendo hoje? (sim/não): sim\n",
            "Você precisa de um guarda-chuva!\n"
          ]
        }
      ],
      "source": [
        "# Simulador de decisão: preciso de guarda-chuva?\n",
        "\n",
        "# Função para verificar se está chovendo\n",
        "def verificar_chuva():\n",
        "    resposta = input(\"Está chovendo hoje? (sim/não): \").strip().lower()\n",
        "    if resposta == \"sim\":\n",
        "        print(\"Você precisa de um guarda-chuva!\")\n",
        "    elif resposta == \"não\":\n",
        "        print(\"Não precisa de guarda-chuva hoje.\")\n",
        "    else:\n",
        "        print(\"Resposta inválida. Por favor, digite 'sim' ou 'não'.\")\n",
        "\n",
        "# Executar a função\n",
        "verificar_chuva()"
      ]
    }
  ]
}